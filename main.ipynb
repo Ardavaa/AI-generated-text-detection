{
 "cells": [
  {
   "cell_type": "code",
   "execution_count": 1,
   "metadata": {
    "_cell_guid": "b1076dfc-b9ad-4769-8c92-a6c4dae69d19",
    "_uuid": "8f2839f25d086af736a60e9eeb907d3b93b6e0e5",
    "execution": {
     "iopub.execute_input": "2024-11-09T09:38:26.499393Z",
     "iopub.status.busy": "2024-11-09T09:38:26.499043Z",
     "iopub.status.idle": "2024-11-09T09:38:55.705975Z",
     "shell.execute_reply": "2024-11-09T09:38:55.704721Z",
     "shell.execute_reply.started": "2024-11-09T09:38:26.499359Z"
    },
    "trusted": true
   },
   "outputs": [
    {
     "data": {
      "text/plain": [
       "DatasetDict({\n",
       "    train: Dataset({\n",
       "        features: ['source', 'id', 'text'],\n",
       "        num_rows: 1392522\n",
       "    })\n",
       "})"
      ]
     },
     "execution_count": 1,
     "metadata": {},
     "output_type": "execute_result"
    }
   ],
   "source": [
    "from datasets import load_dataset\n",
    "\n",
    "ds = load_dataset(\"artem9k/ai-text-detection-pile\")\n",
    "ds"
   ]
  },
  {
   "cell_type": "markdown",
   "metadata": {},
   "source": [
    "Convert huggingface format to Pandas format"
   ]
  },
  {
   "cell_type": "code",
   "execution_count": 2,
   "metadata": {
    "execution": {
     "iopub.execute_input": "2024-11-09T09:38:55.708352Z",
     "iopub.status.busy": "2024-11-09T09:38:55.707873Z",
     "iopub.status.idle": "2024-11-09T09:39:02.952098Z",
     "shell.execute_reply": "2024-11-09T09:39:02.951288Z",
     "shell.execute_reply.started": "2024-11-09T09:38:55.708317Z"
    },
    "trusted": true
   },
   "outputs": [],
   "source": [
    "df = ds['train'].to_pandas()"
   ]
  },
  {
   "cell_type": "code",
   "execution_count": 3,
   "metadata": {
    "execution": {
     "iopub.execute_input": "2024-11-09T09:39:02.953566Z",
     "iopub.status.busy": "2024-11-09T09:39:02.953246Z",
     "iopub.status.idle": "2024-11-09T09:39:02.959597Z",
     "shell.execute_reply": "2024-11-09T09:39:02.958721Z",
     "shell.execute_reply.started": "2024-11-09T09:39:02.953532Z"
    },
    "trusted": true
   },
   "outputs": [
    {
     "data": {
      "text/plain": [
       "(1392522, 3)"
      ]
     },
     "execution_count": 3,
     "metadata": {},
     "output_type": "execute_result"
    }
   ],
   "source": [
    "df.shape"
   ]
  },
  {
   "cell_type": "code",
   "execution_count": 4,
   "metadata": {
    "execution": {
     "iopub.execute_input": "2024-11-09T09:39:02.961052Z",
     "iopub.status.busy": "2024-11-09T09:39:02.960767Z",
     "iopub.status.idle": "2024-11-09T09:39:06.929687Z",
     "shell.execute_reply": "2024-11-09T09:39:06.928714Z",
     "shell.execute_reply.started": "2024-11-09T09:39:02.961021Z"
    },
    "trusted": true
   },
   "outputs": [
    {
     "data": {
      "text/html": [
       "<div>\n",
       "<style scoped>\n",
       "    .dataframe tbody tr th:only-of-type {\n",
       "        vertical-align: middle;\n",
       "    }\n",
       "\n",
       "    .dataframe tbody tr th {\n",
       "        vertical-align: top;\n",
       "    }\n",
       "\n",
       "    .dataframe thead th {\n",
       "        text-align: right;\n",
       "    }\n",
       "</style>\n",
       "<table border=\"1\" class=\"dataframe\">\n",
       "  <thead>\n",
       "    <tr style=\"text-align: right;\">\n",
       "      <th></th>\n",
       "      <th>source</th>\n",
       "      <th>id</th>\n",
       "      <th>text</th>\n",
       "    </tr>\n",
       "  </thead>\n",
       "  <tbody>\n",
       "    <tr>\n",
       "      <th>0</th>\n",
       "      <td>human</td>\n",
       "      <td>0</td>\n",
       "      <td>12 Years a Slave: An Analysis of the Film Essa...</td>\n",
       "    </tr>\n",
       "    <tr>\n",
       "      <th>1</th>\n",
       "      <td>human</td>\n",
       "      <td>1</td>\n",
       "      <td>20+ Social Media Post Ideas to Radically Simpl...</td>\n",
       "    </tr>\n",
       "    <tr>\n",
       "      <th>2</th>\n",
       "      <td>human</td>\n",
       "      <td>2</td>\n",
       "      <td>2022 Russian Invasion of Ukraine in Global Med...</td>\n",
       "    </tr>\n",
       "    <tr>\n",
       "      <th>3</th>\n",
       "      <td>human</td>\n",
       "      <td>3</td>\n",
       "      <td>533 U.S. 27 (2001) Kyllo v. United States: The...</td>\n",
       "    </tr>\n",
       "    <tr>\n",
       "      <th>4</th>\n",
       "      <td>human</td>\n",
       "      <td>4</td>\n",
       "      <td>A Charles Schwab Corporation Case Essay\\n\\nCha...</td>\n",
       "    </tr>\n",
       "    <tr>\n",
       "      <th>...</th>\n",
       "      <td>...</td>\n",
       "      <td>...</td>\n",
       "      <td>...</td>\n",
       "    </tr>\n",
       "    <tr>\n",
       "      <th>1392517</th>\n",
       "      <td>ai</td>\n",
       "      <td>1418649</td>\n",
       "      <td>Today, I accomplished a major feat. I stepped ...</td>\n",
       "    </tr>\n",
       "    <tr>\n",
       "      <th>1392518</th>\n",
       "      <td>ai</td>\n",
       "      <td>1418650</td>\n",
       "      <td>As rockets rain down from the sky\\nEurope trem...</td>\n",
       "    </tr>\n",
       "    <tr>\n",
       "      <th>1392519</th>\n",
       "      <td>ai</td>\n",
       "      <td>1418651</td>\n",
       "      <td>On January 6th, 2023, the world lost a true pi...</td>\n",
       "    </tr>\n",
       "    <tr>\n",
       "      <th>1392520</th>\n",
       "      <td>ai</td>\n",
       "      <td>1418652</td>\n",
       "      <td>A gene bank is a repository of genetic materia...</td>\n",
       "    </tr>\n",
       "    <tr>\n",
       "      <th>1392521</th>\n",
       "      <td>ai</td>\n",
       "      <td>1418655</td>\n",
       "      <td>On the twelfth day of Christmas, My true love ...</td>\n",
       "    </tr>\n",
       "  </tbody>\n",
       "</table>\n",
       "<p>1392522 rows × 3 columns</p>\n",
       "</div>"
      ],
      "text/plain": [
       "        source       id                                               text\n",
       "0        human        0  12 Years a Slave: An Analysis of the Film Essa...\n",
       "1        human        1  20+ Social Media Post Ideas to Radically Simpl...\n",
       "2        human        2  2022 Russian Invasion of Ukraine in Global Med...\n",
       "3        human        3  533 U.S. 27 (2001) Kyllo v. United States: The...\n",
       "4        human        4  A Charles Schwab Corporation Case Essay\\n\\nCha...\n",
       "...        ...      ...                                                ...\n",
       "1392517     ai  1418649  Today, I accomplished a major feat. I stepped ...\n",
       "1392518     ai  1418650  As rockets rain down from the sky\\nEurope trem...\n",
       "1392519     ai  1418651  On January 6th, 2023, the world lost a true pi...\n",
       "1392520     ai  1418652  A gene bank is a repository of genetic materia...\n",
       "1392521     ai  1418655  On the twelfth day of Christmas, My true love ...\n",
       "\n",
       "[1392522 rows x 3 columns]"
      ]
     },
     "execution_count": 4,
     "metadata": {},
     "output_type": "execute_result"
    }
   ],
   "source": [
    "df"
   ]
  },
  {
   "cell_type": "code",
   "execution_count": 23,
   "metadata": {},
   "outputs": [
    {
     "data": {
      "text/html": [
       "<div>\n",
       "<style scoped>\n",
       "    .dataframe tbody tr th:only-of-type {\n",
       "        vertical-align: middle;\n",
       "    }\n",
       "\n",
       "    .dataframe tbody tr th {\n",
       "        vertical-align: top;\n",
       "    }\n",
       "\n",
       "    .dataframe thead th {\n",
       "        text-align: right;\n",
       "    }\n",
       "</style>\n",
       "<table border=\"1\" class=\"dataframe\">\n",
       "  <thead>\n",
       "    <tr style=\"text-align: right;\">\n",
       "      <th></th>\n",
       "      <th>source</th>\n",
       "      <th>id</th>\n",
       "      <th>text</th>\n",
       "    </tr>\n",
       "  </thead>\n",
       "  <tbody>\n",
       "    <tr>\n",
       "      <th>0</th>\n",
       "      <td>0</td>\n",
       "      <td>0</td>\n",
       "      <td>12 Years a Slave: An Analysis of the Film Essa...</td>\n",
       "    </tr>\n",
       "    <tr>\n",
       "      <th>1</th>\n",
       "      <td>0</td>\n",
       "      <td>1</td>\n",
       "      <td>20+ Social Media Post Ideas to Radically Simpl...</td>\n",
       "    </tr>\n",
       "    <tr>\n",
       "      <th>2</th>\n",
       "      <td>0</td>\n",
       "      <td>2</td>\n",
       "      <td>2022 Russian Invasion of Ukraine in Global Med...</td>\n",
       "    </tr>\n",
       "    <tr>\n",
       "      <th>3</th>\n",
       "      <td>0</td>\n",
       "      <td>3</td>\n",
       "      <td>533 U.S. 27 (2001) Kyllo v. United States: The...</td>\n",
       "    </tr>\n",
       "    <tr>\n",
       "      <th>4</th>\n",
       "      <td>0</td>\n",
       "      <td>4</td>\n",
       "      <td>A Charles Schwab Corporation Case Essay\\n\\nCha...</td>\n",
       "    </tr>\n",
       "    <tr>\n",
       "      <th>...</th>\n",
       "      <td>...</td>\n",
       "      <td>...</td>\n",
       "      <td>...</td>\n",
       "    </tr>\n",
       "    <tr>\n",
       "      <th>1392517</th>\n",
       "      <td>1</td>\n",
       "      <td>1418649</td>\n",
       "      <td>Today, I accomplished a major feat. I stepped ...</td>\n",
       "    </tr>\n",
       "    <tr>\n",
       "      <th>1392518</th>\n",
       "      <td>1</td>\n",
       "      <td>1418650</td>\n",
       "      <td>As rockets rain down from the sky\\nEurope trem...</td>\n",
       "    </tr>\n",
       "    <tr>\n",
       "      <th>1392519</th>\n",
       "      <td>1</td>\n",
       "      <td>1418651</td>\n",
       "      <td>On January 6th, 2023, the world lost a true pi...</td>\n",
       "    </tr>\n",
       "    <tr>\n",
       "      <th>1392520</th>\n",
       "      <td>1</td>\n",
       "      <td>1418652</td>\n",
       "      <td>A gene bank is a repository of genetic materia...</td>\n",
       "    </tr>\n",
       "    <tr>\n",
       "      <th>1392521</th>\n",
       "      <td>1</td>\n",
       "      <td>1418655</td>\n",
       "      <td>On the twelfth day of Christmas, My true love ...</td>\n",
       "    </tr>\n",
       "  </tbody>\n",
       "</table>\n",
       "<p>1392522 rows × 3 columns</p>\n",
       "</div>"
      ],
      "text/plain": [
       "         source       id                                               text\n",
       "0             0        0  12 Years a Slave: An Analysis of the Film Essa...\n",
       "1             0        1  20+ Social Media Post Ideas to Radically Simpl...\n",
       "2             0        2  2022 Russian Invasion of Ukraine in Global Med...\n",
       "3             0        3  533 U.S. 27 (2001) Kyllo v. United States: The...\n",
       "4             0        4  A Charles Schwab Corporation Case Essay\\n\\nCha...\n",
       "...         ...      ...                                                ...\n",
       "1392517       1  1418649  Today, I accomplished a major feat. I stepped ...\n",
       "1392518       1  1418650  As rockets rain down from the sky\\nEurope trem...\n",
       "1392519       1  1418651  On January 6th, 2023, the world lost a true pi...\n",
       "1392520       1  1418652  A gene bank is a repository of genetic materia...\n",
       "1392521       1  1418655  On the twelfth day of Christmas, My true love ...\n",
       "\n",
       "[1392522 rows x 3 columns]"
      ]
     },
     "execution_count": 23,
     "metadata": {},
     "output_type": "execute_result"
    }
   ],
   "source": [
    "# replace 'human' with 0, 'ai' with 1\n",
    "df['source'] = df['source'].replace({'human': 0, 'ai': 1})\n",
    "df"
   ]
  },
  {
   "cell_type": "markdown",
   "metadata": {},
   "source": [
    "## Prepocessing"
   ]
  },
  {
   "cell_type": "code",
   "execution_count": 24,
   "metadata": {
    "trusted": true
   },
   "outputs": [],
   "source": [
    "from sklearn.model_selection import train_test_split\n",
    "\n",
    "train_df, test_df = train_test_split(\n",
    "    df,\n",
    "    test_size=0.2,\n",
    "    random_state=42\n",
    ")"
   ]
  },
  {
   "cell_type": "code",
   "execution_count": 25,
   "metadata": {
    "execution": {
     "iopub.execute_input": "2024-11-09T09:49:21.633179Z",
     "iopub.status.busy": "2024-11-09T09:49:21.632491Z"
    },
    "trusted": true
   },
   "outputs": [],
   "source": [
    "import torch\n",
    "from transformers import (\n",
    "    RobertaTokenizerFast,\n",
    "    RobertaForSequenceClassification,\n",
    "    TrainingArguments,\n",
    "    Trainer,\n",
    "    AutoConfig\n",
    ")\n",
    "\n",
    "from huggingface_hub import HfFolder, notebook_login"
   ]
  },
  {
   "cell_type": "code",
   "execution_count": 26,
   "metadata": {},
   "outputs": [
    {
     "data": {
      "application/vnd.jupyter.widget-view+json": {
       "model_id": "4afd4adefadd4fa8a25b799e626fdf80",
       "version_major": 2,
       "version_minor": 0
      },
      "text/plain": [
       "VBox(children=(HTML(value='<center> <img\\nsrc=https://huggingface.co/front/assets/huggingface_logo-noborder.sv…"
      ]
     },
     "metadata": {},
     "output_type": "display_data"
    }
   ],
   "source": [
    "notebook_login()"
   ]
  },
  {
   "cell_type": "code",
   "execution_count": 27,
   "metadata": {},
   "outputs": [
    {
     "data": {
      "text/plain": [
       "[1114017, 278505]"
      ]
     },
     "execution_count": 27,
     "metadata": {},
     "output_type": "execute_result"
    }
   ],
   "source": [
    "[len(train_df), len(test_df)]"
   ]
  },
  {
   "cell_type": "code",
   "execution_count": 18,
   "metadata": {},
   "outputs": [
    {
     "data": {
      "image/png": "[encoded data removed]",
      "text/plain": [
       "<Figure size 640x480 with 1 Axes>"
      ]
     },
     "metadata": {},
     "output_type": "display_data"
    }
   ],
   "source": [
    "import matplotlib.pyplot as plt\n",
    "plt.pie([len(train_df), len(test_df)], autopct='%1.1f%%', labels=['Train', 'Test'])\n",
    "plt.title('Proportion of Train and Test Data')\n",
    "plt.show()"
   ]
  },
  {
   "cell_type": "code",
   "execution_count": 28,
   "metadata": {},
   "outputs": [
    {
     "data": {
      "text/html": [
       "<div>\n",
       "<style scoped>\n",
       "    .dataframe tbody tr th:only-of-type {\n",
       "        vertical-align: middle;\n",
       "    }\n",
       "\n",
       "    .dataframe tbody tr th {\n",
       "        vertical-align: top;\n",
       "    }\n",
       "\n",
       "    .dataframe thead th {\n",
       "        text-align: right;\n",
       "    }\n",
       "</style>\n",
       "<table border=\"1\" class=\"dataframe\">\n",
       "  <thead>\n",
       "    <tr style=\"text-align: right;\">\n",
       "      <th></th>\n",
       "      <th>source</th>\n",
       "      <th>id</th>\n",
       "      <th>text</th>\n",
       "    </tr>\n",
       "  </thead>\n",
       "  <tbody>\n",
       "    <tr>\n",
       "      <th>1209079</th>\n",
       "      <td>1</td>\n",
       "      <td>1229041</td>\n",
       "      <td>When the dust settles, will there be a strong ...</td>\n",
       "    </tr>\n",
       "    <tr>\n",
       "      <th>231479</th>\n",
       "      <td>0</td>\n",
       "      <td>231479</td>\n",
       "      <td>Still loading...\\n\\nA B C D E F G H I J K L M ...</td>\n",
       "    </tr>\n",
       "    <tr>\n",
       "      <th>955953</th>\n",
       "      <td>0</td>\n",
       "      <td>975123</td>\n",
       "      <td>Punch. Kick. Dodge. Punch. Kick. Dodge. A ryth...</td>\n",
       "    </tr>\n",
       "    <tr>\n",
       "      <th>1265850</th>\n",
       "      <td>1</td>\n",
       "      <td>1285812</td>\n",
       "      <td>The U.S. State Department has launched an ongo...</td>\n",
       "    </tr>\n",
       "    <tr>\n",
       "      <th>303442</th>\n",
       "      <td>0</td>\n",
       "      <td>303442</td>\n",
       "      <td>SACRAMENTO (CBS13) – Sacramento Mayor Kevin Jo...</td>\n",
       "    </tr>\n",
       "  </tbody>\n",
       "</table>\n",
       "</div>"
      ],
      "text/plain": [
       "         source       id                                               text\n",
       "1209079       1  1229041  When the dust settles, will there be a strong ...\n",
       "231479        0   231479  Still loading...\\n\\nA B C D E F G H I J K L M ...\n",
       "955953        0   975123  Punch. Kick. Dodge. Punch. Kick. Dodge. A ryth...\n",
       "1265850       1  1285812  The U.S. State Department has launched an ongo...\n",
       "303442        0   303442  SACRAMENTO (CBS13) – Sacramento Mayor Kevin Jo..."
      ]
     },
     "execution_count": 28,
     "metadata": {},
     "output_type": "execute_result"
    }
   ],
   "source": [
    "train_df.head()"
   ]
  },
  {
   "cell_type": "code",
   "execution_count": null,
   "metadata": {},
   "outputs": [],
   "source": [
    "model_id = 'roberta-base'\n",
    "\n",
    "tokenizer = RobertaTokenizerFast.from_pretrained(model_id)\n",
    "\n",
    "\n",
    "def tokenize(batch):\n",
    "    return tokenizer(batch['text'], padding=True, truncation=True, max_length=512)\n",
    "\n",
    "train_df = train_df.map(tokenize, batched=True, batch_size=len(train_df))\n",
    "test_df = test_df.map(tokenize, batched=True, batch_size=len(test_df))\n",
    "\n"
   ]
  },
  {
   "cell_type": "markdown",
   "metadata": {},
   "source": [
    "### Set dataset format to tensors"
   ]
  },
  {
   "cell_type": "code",
   "execution_count": null,
   "metadata": {},
   "outputs": [],
   "source": [
    "# convert pandas to huggingface dataset\n",
    "from datasets import Dataset\n",
    "\n",
    "train_df = Dataset.from_pandas(train_df)\n",
    "test_df = Dataset.from_pandas(test_df)\n",
    "\n",
    "# convert huggingface to tensor dataset format\n",
    "train_df.set_format('torch', columns=['input_ids', 'attention_mask', 'labels'])\n",
    "test_df.set_format('torch', columns=['input_ids', 'attention_mask', 'labels'])"
   ]
  },
  {
   "cell_type": "code",
   "execution_count": null,
   "metadata": {},
   "outputs": [],
   "source": []
  },
  {
   "cell_type": "markdown",
   "metadata": {},
   "source": [
    "## Fine-tuning RoBERTa for text classification"
   ]
  },
  {
   "cell_type": "code",
   "execution_count": null,
   "metadata": {},
   "outputs": [],
   "source": [
    "model = RobertaForSequenceClassification.from_pretrained(model_id, config)"
   ]
  }
 ],
 "metadata": {
  "kaggle": {
   "accelerator": "nvidiaTeslaT4",
   "dataSources": [],
   "dockerImageVersionId": 30787,
   "isGpuEnabled": true,
   "isInternetEnabled": true,
   "language": "python",
   "sourceType": "notebook"
  },
  "kernelspec": {
   "display_name": "base",
   "language": "python",
   "name": "python3"
  },
  "language_info": {
   "codemirror_mode": {
    "name": "ipython",
    "version": 3
   },
   "file_extension": ".py",
   "mimetype": "text/x-python",
   "name": "python",
   "nbconvert_exporter": "python",
   "pygments_lexer": "ipython3",
   "version": "3.12.4"
  }
 },
 "nbformat": 4,
 "nbformat_minor": 4
}
