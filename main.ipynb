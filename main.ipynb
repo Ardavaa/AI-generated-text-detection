{
 "cells": [
  {
   "cell_type": "code",
   "execution_count": 1,
   "metadata": {
    "_cell_guid": "b1076dfc-b9ad-4769-8c92-a6c4dae69d19",
    "_uuid": "8f2839f25d086af736a60e9eeb907d3b93b6e0e5"
   },
   "outputs": [
    {
     "name": "stderr",
     "output_type": "stream",
     "text": [
      "/home/ml/.local/lib/python3.10/site-packages/tqdm/auto.py:21: TqdmWarning: IProgress not found. Please update jupyter and ipywidgets. See https://ipywidgets.readthedocs.io/en/stable/user_install.html\n",
      "  from .autonotebook import tqdm as notebook_tqdm\n"
     ]
    },
    {
     "data": {
      "text/plain": [
       "DatasetDict({\n",
       "    train: Dataset({\n",
       "        features: ['source', 'id', 'text'],\n",
       "        num_rows: 1392522\n",
       "    })\n",
       "})"
      ]
     },
     "execution_count": 1,
     "metadata": {},
     "output_type": "execute_result"
    }
   ],
   "source": [
    "from datasets import load_dataset\n",
    "\n",
    "ds = load_dataset(\"artem9k/ai-text-detection-pile\")\n",
    "ds"
   ]
  },
  {
   "cell_type": "code",
   "execution_count": 2,
   "metadata": {},
   "outputs": [
    {
     "data": {
      "text/plain": [
       "True"
      ]
     },
     "execution_count": 2,
     "metadata": {},
     "output_type": "execute_result"
    }
   ],
   "source": [
    "import torch\n",
    "torch.cuda.is_available()"
   ]
  },
  {
   "cell_type": "markdown",
   "metadata": {},
   "source": [
    "Convert huggingface format to Pandas format"
   ]
  },
  {
   "cell_type": "code",
   "execution_count": 3,
   "metadata": {},
   "outputs": [],
   "source": [
    "df = ds['train'].to_pandas()"
   ]
  },
  {
   "cell_type": "code",
   "execution_count": 4,
   "metadata": {},
   "outputs": [
    {
     "data": {
      "text/plain": [
       "(1392522, 3)"
      ]
     },
     "execution_count": 4,
     "metadata": {},
     "output_type": "execute_result"
    }
   ],
   "source": [
    "df.shape"
   ]
  },
  {
   "cell_type": "code",
   "execution_count": 5,
   "metadata": {},
   "outputs": [
    {
     "data": {
      "text/html": [
       "<div>\n",
       "<style scoped>\n",
       "    .dataframe tbody tr th:only-of-type {\n",
       "        vertical-align: middle;\n",
       "    }\n",
       "\n",
       "    .dataframe tbody tr th {\n",
       "        vertical-align: top;\n",
       "    }\n",
       "\n",
       "    .dataframe thead th {\n",
       "        text-align: right;\n",
       "    }\n",
       "</style>\n",
       "<table border=\"1\" class=\"dataframe\">\n",
       "  <thead>\n",
       "    <tr style=\"text-align: right;\">\n",
       "      <th></th>\n",
       "      <th>source</th>\n",
       "      <th>id</th>\n",
       "      <th>text</th>\n",
       "    </tr>\n",
       "  </thead>\n",
       "  <tbody>\n",
       "    <tr>\n",
       "      <th>0</th>\n",
       "      <td>human</td>\n",
       "      <td>0</td>\n",
       "      <td>12 Years a Slave: An Analysis of the Film Essa...</td>\n",
       "    </tr>\n",
       "    <tr>\n",
       "      <th>1</th>\n",
       "      <td>human</td>\n",
       "      <td>1</td>\n",
       "      <td>20+ Social Media Post Ideas to Radically Simpl...</td>\n",
       "    </tr>\n",
       "    <tr>\n",
       "      <th>2</th>\n",
       "      <td>human</td>\n",
       "      <td>2</td>\n",
       "      <td>2022 Russian Invasion of Ukraine in Global Med...</td>\n",
       "    </tr>\n",
       "    <tr>\n",
       "      <th>3</th>\n",
       "      <td>human</td>\n",
       "      <td>3</td>\n",
       "      <td>533 U.S. 27 (2001) Kyllo v. United States: The...</td>\n",
       "    </tr>\n",
       "    <tr>\n",
       "      <th>4</th>\n",
       "      <td>human</td>\n",
       "      <td>4</td>\n",
       "      <td>A Charles Schwab Corporation Case Essay\\n\\nCha...</td>\n",
       "    </tr>\n",
       "    <tr>\n",
       "      <th>...</th>\n",
       "      <td>...</td>\n",
       "      <td>...</td>\n",
       "      <td>...</td>\n",
       "    </tr>\n",
       "    <tr>\n",
       "      <th>1392517</th>\n",
       "      <td>ai</td>\n",
       "      <td>1418649</td>\n",
       "      <td>Today, I accomplished a major feat. I stepped ...</td>\n",
       "    </tr>\n",
       "    <tr>\n",
       "      <th>1392518</th>\n",
       "      <td>ai</td>\n",
       "      <td>1418650</td>\n",
       "      <td>As rockets rain down from the sky\\nEurope trem...</td>\n",
       "    </tr>\n",
       "    <tr>\n",
       "      <th>1392519</th>\n",
       "      <td>ai</td>\n",
       "      <td>1418651</td>\n",
       "      <td>On January 6th, 2023, the world lost a true pi...</td>\n",
       "    </tr>\n",
       "    <tr>\n",
       "      <th>1392520</th>\n",
       "      <td>ai</td>\n",
       "      <td>1418652</td>\n",
       "      <td>A gene bank is a repository of genetic materia...</td>\n",
       "    </tr>\n",
       "    <tr>\n",
       "      <th>1392521</th>\n",
       "      <td>ai</td>\n",
       "      <td>1418655</td>\n",
       "      <td>On the twelfth day of Christmas, My true love ...</td>\n",
       "    </tr>\n",
       "  </tbody>\n",
       "</table>\n",
       "<p>1392522 rows × 3 columns</p>\n",
       "</div>"
      ],
      "text/plain": [
       "        source       id                                               text\n",
       "0        human        0  12 Years a Slave: An Analysis of the Film Essa...\n",
       "1        human        1  20+ Social Media Post Ideas to Radically Simpl...\n",
       "2        human        2  2022 Russian Invasion of Ukraine in Global Med...\n",
       "3        human        3  533 U.S. 27 (2001) Kyllo v. United States: The...\n",
       "4        human        4  A Charles Schwab Corporation Case Essay\\n\\nCha...\n",
       "...        ...      ...                                                ...\n",
       "1392517     ai  1418649  Today, I accomplished a major feat. I stepped ...\n",
       "1392518     ai  1418650  As rockets rain down from the sky\\nEurope trem...\n",
       "1392519     ai  1418651  On January 6th, 2023, the world lost a true pi...\n",
       "1392520     ai  1418652  A gene bank is a repository of genetic materia...\n",
       "1392521     ai  1418655  On the twelfth day of Christmas, My true love ...\n",
       "\n",
       "[1392522 rows x 3 columns]"
      ]
     },
     "execution_count": 5,
     "metadata": {},
     "output_type": "execute_result"
    }
   ],
   "source": [
    "df"
   ]
  },
  {
   "cell_type": "code",
   "execution_count": 6,
   "metadata": {},
   "outputs": [
    {
     "name": "stderr",
     "output_type": "stream",
     "text": [
      "/tmp/ipykernel_820714/3923059119.py:2: FutureWarning: Downcasting behavior in `replace` is deprecated and will be removed in a future version. To retain the old behavior, explicitly call `result.infer_objects(copy=False)`. To opt-in to the future behavior, set `pd.set_option('future.no_silent_downcasting', True)`\n",
      "  df['source'] = df['source'].replace({'human': 0, 'ai': 1})\n"
     ]
    },
    {
     "data": {
      "text/html": [
       "<div>\n",
       "<style scoped>\n",
       "    .dataframe tbody tr th:only-of-type {\n",
       "        vertical-align: middle;\n",
       "    }\n",
       "\n",
       "    .dataframe tbody tr th {\n",
       "        vertical-align: top;\n",
       "    }\n",
       "\n",
       "    .dataframe thead th {\n",
       "        text-align: right;\n",
       "    }\n",
       "</style>\n",
       "<table border=\"1\" class=\"dataframe\">\n",
       "  <thead>\n",
       "    <tr style=\"text-align: right;\">\n",
       "      <th></th>\n",
       "      <th>source</th>\n",
       "      <th>id</th>\n",
       "      <th>text</th>\n",
       "    </tr>\n",
       "  </thead>\n",
       "  <tbody>\n",
       "    <tr>\n",
       "      <th>0</th>\n",
       "      <td>0</td>\n",
       "      <td>0</td>\n",
       "      <td>12 Years a Slave: An Analysis of the Film Essa...</td>\n",
       "    </tr>\n",
       "    <tr>\n",
       "      <th>1</th>\n",
       "      <td>0</td>\n",
       "      <td>1</td>\n",
       "      <td>20+ Social Media Post Ideas to Radically Simpl...</td>\n",
       "    </tr>\n",
       "    <tr>\n",
       "      <th>2</th>\n",
       "      <td>0</td>\n",
       "      <td>2</td>\n",
       "      <td>2022 Russian Invasion of Ukraine in Global Med...</td>\n",
       "    </tr>\n",
       "    <tr>\n",
       "      <th>3</th>\n",
       "      <td>0</td>\n",
       "      <td>3</td>\n",
       "      <td>533 U.S. 27 (2001) Kyllo v. United States: The...</td>\n",
       "    </tr>\n",
       "    <tr>\n",
       "      <th>4</th>\n",
       "      <td>0</td>\n",
       "      <td>4</td>\n",
       "      <td>A Charles Schwab Corporation Case Essay\\n\\nCha...</td>\n",
       "    </tr>\n",
       "    <tr>\n",
       "      <th>...</th>\n",
       "      <td>...</td>\n",
       "      <td>...</td>\n",
       "      <td>...</td>\n",
       "    </tr>\n",
       "    <tr>\n",
       "      <th>1392517</th>\n",
       "      <td>1</td>\n",
       "      <td>1418649</td>\n",
       "      <td>Today, I accomplished a major feat. I stepped ...</td>\n",
       "    </tr>\n",
       "    <tr>\n",
       "      <th>1392518</th>\n",
       "      <td>1</td>\n",
       "      <td>1418650</td>\n",
       "      <td>As rockets rain down from the sky\\nEurope trem...</td>\n",
       "    </tr>\n",
       "    <tr>\n",
       "      <th>1392519</th>\n",
       "      <td>1</td>\n",
       "      <td>1418651</td>\n",
       "      <td>On January 6th, 2023, the world lost a true pi...</td>\n",
       "    </tr>\n",
       "    <tr>\n",
       "      <th>1392520</th>\n",
       "      <td>1</td>\n",
       "      <td>1418652</td>\n",
       "      <td>A gene bank is a repository of genetic materia...</td>\n",
       "    </tr>\n",
       "    <tr>\n",
       "      <th>1392521</th>\n",
       "      <td>1</td>\n",
       "      <td>1418655</td>\n",
       "      <td>On the twelfth day of Christmas, My true love ...</td>\n",
       "    </tr>\n",
       "  </tbody>\n",
       "</table>\n",
       "<p>1392522 rows × 3 columns</p>\n",
       "</div>"
      ],
      "text/plain": [
       "         source       id                                               text\n",
       "0             0        0  12 Years a Slave: An Analysis of the Film Essa...\n",
       "1             0        1  20+ Social Media Post Ideas to Radically Simpl...\n",
       "2             0        2  2022 Russian Invasion of Ukraine in Global Med...\n",
       "3             0        3  533 U.S. 27 (2001) Kyllo v. United States: The...\n",
       "4             0        4  A Charles Schwab Corporation Case Essay\\n\\nCha...\n",
       "...         ...      ...                                                ...\n",
       "1392517       1  1418649  Today, I accomplished a major feat. I stepped ...\n",
       "1392518       1  1418650  As rockets rain down from the sky\\nEurope trem...\n",
       "1392519       1  1418651  On January 6th, 2023, the world lost a true pi...\n",
       "1392520       1  1418652  A gene bank is a repository of genetic materia...\n",
       "1392521       1  1418655  On the twelfth day of Christmas, My true love ...\n",
       "\n",
       "[1392522 rows x 3 columns]"
      ]
     },
     "execution_count": 6,
     "metadata": {},
     "output_type": "execute_result"
    }
   ],
   "source": [
    "# replace 'human' with 0, 'ai' with 1\n",
    "df['source'] = df['source'].replace({'human': 0, 'ai': 1})\n",
    "df"
   ]
  },
  {
   "cell_type": "markdown",
   "metadata": {},
   "source": [
    "## Prepocessing"
   ]
  },
  {
   "cell_type": "code",
   "execution_count": 7,
   "metadata": {},
   "outputs": [],
   "source": [
    "from sklearn.model_selection import train_test_split\n",
    "\n",
    "train_df, test_df = train_test_split(\n",
    "    df,\n",
    "    test_size=0.2,\n",
    "    random_state=42\n",
    ")"
   ]
  },
  {
   "cell_type": "code",
   "execution_count": 8,
   "metadata": {},
   "outputs": [
    {
     "data": {
      "text/plain": [
       "[1114017, 278505]"
      ]
     },
     "execution_count": 8,
     "metadata": {},
     "output_type": "execute_result"
    }
   ],
   "source": [
    "[len(train_df), len(test_df)]"
   ]
  },
  {
   "cell_type": "code",
   "execution_count": 9,
   "metadata": {},
   "outputs": [
    {
     "data": {
      "image/png": "[encoded data removed]",
      "text/plain": [
       "<Figure size 640x480 with 1 Axes>"
      ]
     },
     "metadata": {},
     "output_type": "display_data"
    }
   ],
   "source": [
    "import matplotlib.pyplot as plt\n",
    "plt.pie([len(train_df), len(test_df)], autopct='%1.1f%%', labels=['Train', 'Test'])\n",
    "plt.title('Proportion of Train and Test Data')\n",
    "plt.show()"
   ]
  },
  {
   "cell_type": "markdown",
   "metadata": {},
   "source": [
    "### Set dataset format to tensors"
   ]
  },
  {
   "cell_type": "code",
   "execution_count": null,
   "metadata": {},
   "outputs": [
    {
     "name": "stderr",
     "output_type": "stream",
     "text": [
      "2024-11-12 18:12:14.152799: E external/local_xla/xla/stream_executor/cuda/cuda_fft.cc:477] Unable to register cuFFT factory: Attempting to register factory for plugin cuFFT when one has already been registered\n",
      "WARNING: All log messages before absl::InitializeLog() is called are written to STDERR\n",
      "E0000 00:00:1731409934.215843  820714 cuda_dnn.cc:8310] Unable to register cuDNN factory: Attempting to register factory for plugin cuDNN when one has already been registered\n",
      "E0000 00:00:1731409934.232742  820714 cuda_blas.cc:1418] Unable to register cuBLAS factory: Attempting to register factory for plugin cuBLAS when one has already been registered\n",
      "2024-11-12 18:12:14.422504: I tensorflow/core/platform/cpu_feature_guard.cc:210] This TensorFlow binary is optimized to use available CPU instructions in performance-critical operations.\n",
      "To enable the following instructions: AVX2 FMA, in other operations, rebuild TensorFlow with the appropriate compiler flags.\n"
     ]
    }
   ],
   "source": [
    "from transformers import RobertaForSequenceClassification, Trainer, TrainingArguments, RobertaTokenizerFast\n",
    "from datasets import Dataset\n",
    "\n",
    "# Initialize the tokenizer\n",
    "model_id = 'roberta-base'\n",
    "tokenizer = RobertaTokenizerFast.from_pretrained(model_id)\n",
    "\n",
    "# Define the tokenization function\n",
    "def tokenize(batch):\n",
    "    return tokenizer(batch['text'], padding=True, truncation=True, max_length=512)\n",
    "\n",
    "# Ensure your DataFrame is converted to a Dataset\n",
    "train_dataset = Dataset.from_pandas(train_df)\n",
    "test_dataset = Dataset.from_pandas(test_df)\n",
    "\n",
    "# Tokenize the train and test datasets\n",
    "train_encodings = train_dataset.map(tokenize, batched=True)\n",
    "test_encodings = test_dataset.map(tokenize, batched=True)"
   ]
  },
  {
   "cell_type": "code",
   "execution_count": null,
   "metadata": {},
   "outputs": [],
   "source": [
    "train_encodings = train_encodings.rename_column(\"source\", \"labels\")\n",
    "test_encodings = test_encodings.rename_column(\"source\", \"labels\")\n",
    "\n",
    "train_encodings = train_encodings.remove_columns([col for col in train_encodings.column_names if col not in ['input_ids', 'attention_mask', 'labels']])\n",
    "test_encodings = test_encodings.remove_columns([col for col in test_encodings.column_names if col not in ['input_ids', 'attention_mask', 'labels']])\n",
    "\n",
    "print(train_encodings.column_names)\n",
    "print(test_encodings.column_names)"
   ]
  },
  {
   "cell_type": "markdown",
   "metadata": {},
   "source": [
    "## Fine-tuning RoBERTa for text classification"
   ]
  },
  {
   "cell_type": "code",
   "execution_count": null,
   "metadata": {},
   "outputs": [],
   "source": [
    "import torch\n",
    "import evaluate\n",
    "from transformers import RobertaForSequenceClassification, Trainer, TrainingArguments\n",
    "\n",
    "# Load metrics using the evaluate library\n",
    "accuracy = evaluate.load(\"accuracy\")\n",
    "f1 = evaluate.load(\"f1\")\n",
    "precision = evaluate.load(\"precision\")\n",
    "recall = evaluate.load(\"recall\")\n",
    "\n",
    "# Define model and device\n",
    "model = RobertaForSequenceClassification.from_pretrained(model_id, num_labels=2)\n",
    "\n",
    "# Set device (CUDA if available, otherwise CPU)\n",
    "device = torch.device('cuda') if torch.cuda.is_available() else torch.device('cpu')\n",
    "model.to(device)\n",
    "\n",
    "# Set up training arguments\n",
    "training_args = TrainingArguments(\n",
    "    output_dir='./results',  # Output directory for model checkpoints and results\n",
    "    evaluation_strategy='epoch',  # Evaluate after every epoch\n",
    "    save_strategy='epoch',  # Save model after each epoch\n",
    "    learning_rate=3e-5,  # Learning rate for the optimizer\n",
    "    per_device_train_batch_size=16,  # Batch size for training\n",
    "    per_device_eval_batch_size=32,  # Batch size for evaluation\n",
    "    num_train_epochs=3,  # Number of training epochs\n",
    "    warmup_steps=1000,  # Number of warmup steps for learning rate scheduler\n",
    "    weight_decay=0.01,  # Weight decay for regularization\n",
    "    logging_dir='./logs',  # Directory to store logs\n",
    "    logging_steps=50,  # Log every 50 steps\n",
    "    save_total_limit=3,  # Limit the number of saved checkpoints\n",
    "    load_best_model_at_end=True,  # Load the best model after training\n",
    "    metric_for_best_model='accuracy',  # Metric to use for selecting the best model\n",
    "    greater_is_better=True,  # Whether higher values of the metric are better\n",
    "    seed=42,  # Random seed for reproducibility\n",
    "    fp16=True,  # Use mixed precision training\n",
    "    gradient_accumulation_steps=1,  # Number of steps to accumulate gradients\n",
    "    eval_accumulation_steps=1,  # Accumulate gradients during evaluation to prevent memory issues\n",
    ")\n",
    "\n",
    "# Define your custom metrics function\n",
    "def compute_metrics(p):\n",
    "    preds = p.predictions.argmax(-1)  # Take the argmax to get the final predictions\n",
    "    labels = p.label_ids\n",
    "\n",
    "    # If preds or labels are not flat, ensure they're reshaped correctly\n",
    "    if len(preds.shape) > 1:\n",
    "        preds = preds.flatten()\n",
    "\n",
    "    # Compute individual metrics\n",
    "    accuracy_result = accuracy.compute(predictions=preds, references=labels)\n",
    "    f1_result = f1.compute(predictions=preds, references=labels, average='binary')\n",
    "    precision_result = precision.compute(predictions=preds, references=labels, average='binary')\n",
    "    recall_result = recall.compute(predictions=preds, references=labels, average='binary')\n",
    "\n",
    "    # Extract scalar values from the metric results\n",
    "    result = {\n",
    "        'accuracy': accuracy_result['accuracy'],  # Extract the scalar accuracy value\n",
    "        'f1': f1_result['f1'],  # Extract the scalar F1 score value\n",
    "        'precision': precision_result['precision'],  # Extract the scalar precision value\n",
    "        'recall': recall_result['recall'],  # Extract the scalar recall value\n",
    "    }\n",
    "\n",
    "    return result\n",
    "\n",
    "\n",
    "# Initialize Trainer\n",
    "trainer = Trainer(\n",
    "    model=model,\n",
    "    args=training_args,\n",
    "    train_dataset=train_encodings,  # Training dataset (ensure this is preprocessed and tokenized)\n",
    "    eval_dataset=test_encodings,  # Evaluation dataset (ensure this is preprocessed and tokenized)\n",
    "    compute_metrics=compute_metrics  # Define the metrics computation\n",
    ")\n",
    "\n",
    "# Train the model\n",
    "trainer.train()\n"
   ]
  },
  {
   "cell_type": "code",
   "execution_count": null,
   "metadata": {},
   "outputs": [],
   "source": [
    "trainer.train(resume_for_checkpoint='results/checkpoint-139254')"
   ]
  },
  {
   "cell_type": "code",
   "execution_count": null,
   "metadata": {},
   "outputs": [],
   "source": [
    "model.save_pretrained('roberta-ai-detection')\n",
    "tokenizer.save_pretrained('roberta-ai-detection')"
   ]
  }
 ],
 "metadata": {
  "kaggle": {
   "accelerator": "nvidiaTeslaT4",
   "dataSources": [],
   "dockerImageVersionId": 30787,
   "isGpuEnabled": true,
   "isInternetEnabled": true,
   "language": "python",
   "sourceType": "notebook"
  },
  "kernelspec": {
   "display_name": "Python 3 (ipykernel)",
   "language": "python",
   "name": "python3"
  },
  "language_info": {
   "codemirror_mode": {
    "name": "ipython",
    "version": 3
   },
   "file_extension": ".py",
   "mimetype": "text/x-python",
   "name": "python",
   "nbconvert_exporter": "python",
   "pygments_lexer": "ipython3",
   "version": "3.10.12"
  }
 },
 "nbformat": 4,
 "nbformat_minor": 4
}
